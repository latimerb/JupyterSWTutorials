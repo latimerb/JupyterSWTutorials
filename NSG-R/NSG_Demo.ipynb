{
 "cells": [
  {
   "cell_type": "code",
   "execution_count": 6,
   "metadata": {},
   "outputs": [
    {
     "name": "stdout",
     "output_type": "stream",
     "text": [
      "Enter your user name aacwb\n",
      "Enter your password Manu@#1620\n",
      "Enter your application key MyFirstApp-911B7CAD877846678763B2014752F2C0\n"
     ]
    }
   ],
   "source": [
    "# This worked with python 3, with requests module installed\n",
    "# use port 8443 for production, 8444 for test\n",
    "# register at https://www.nsgportal.org/reg/reg.php for username and password\n",
    "CRA_USER = input(\"Enter your user name \")\n",
    "PASSWORD = input(\"Enter your password \")\n",
    "# for development version:\n",
    "# log in at https://nsgr.sdsc.edu:8444/restusers/login.action\n",
    "# for production version:\n",
    "# log in at https://nsgr.sdsc.edu:8443/restusers/login.action\n",
    "# Tool names can be found at Developer->Documentation (Tools: How to Configure Specific Tools)\n",
    "# create a new application at Developer->Application Management (Create New Application)\n",
    "# save the Application Key for use in REST requests\n",
    "KEY = input(\"Enter your application key \")\n",
    "# for development version:\n",
    "# URL = 'https://nsgr.sdsc.edu:8444/cipresrest/v1'\n",
    "# for production version:\n",
    "URL = 'https://nsgr.sdsc.edu:8443/cipresrest/v1'\n",
    "TOOL = 'NEURON73_TG'\n"
   ]
  },
  {
   "cell_type": "code",
   "execution_count": 11,
   "metadata": {},
   "outputs": [
    {
     "data": {
      "application/vnd.jupyter.widget-view+json": {
       "model_id": "0a9931f23f9c430ea64484054df3f7c0",
       "version_major": 2,
       "version_minor": 0
      },
      "text/html": [
       "<p>Failed to display Jupyter Widget of type <code>SelectFilesButton</code>.</p>\n",
       "<p>\n",
       "  If you're reading this message in the Jupyter Notebook or JupyterLab Notebook, it may mean\n",
       "  that the widgets JavaScript is still loading. If this message persists, it\n",
       "  likely means that the widgets JavaScript library is either not installed or\n",
       "  not enabled. See the <a href=\"https://ipywidgets.readthedocs.io/en/stable/user_install.html\">Jupyter\n",
       "  Widgets Documentation</a> for setup instructions.\n",
       "</p>\n",
       "<p>\n",
       "  If you're reading this message in another frontend (for example, a static\n",
       "  rendering on GitHub or <a href=\"https://nbviewer.jupyter.org/\">NBViewer</a>),\n",
       "  it may mean that your frontend doesn't currently support widgets.\n",
       "</p>\n"
      ],
      "text/plain": [
       "SelectFilesButton(description='Select Files', icon='square-o', style=ButtonStyle(button_color='orange'))"
      ]
     },
     "metadata": {},
     "output_type": "display_data"
    }
   ],
   "source": [
    "import traitlets\n",
    "from ipywidgets import widgets\n",
    "from IPython.display import display\n",
    "from tkinter import Tk, filedialog\n",
    "import os\n",
    "\n",
    "class SelectFilesButton(widgets.Button):\n",
    "    \"\"\"A file widget that leverages tkinter.filedialog.\"\"\"\n",
    "\n",
    "    def __init__(self):\n",
    "        super(SelectFilesButton, self).__init__()\n",
    "        # Add the selected_files trait\n",
    "        self.add_traits(files=traitlets.traitlets.List())\n",
    "        # Create the button.\n",
    "        self.description = \"Select Files\"\n",
    "        self.icon = \"square-o\"\n",
    "        self.style.button_color = \"orange\"\n",
    "        # Set on click behavior.\n",
    "        self.on_click(self.select_files)\n",
    "\n",
    "    @staticmethod\n",
    "    def select_files(b):\n",
    "        \"\"\"Generate instance of tkinter.filedialog.\n",
    "\n",
    "        Parameters\n",
    "        ----------\n",
    "        b : obj:\n",
    "            An instance of ipywidgets.widgets.Button \n",
    "        \"\"\"\n",
    "        # Create Tk root\n",
    "        root = Tk()\n",
    "        # Hide the main window\n",
    "        root.withdraw()\n",
    "        # Raise the root to the top of all windows.\n",
    "        root.call('wm', 'attributes', '.', '-topmost', True)\n",
    "        # List of selected fileswill be set to b.value\n",
    "        b.files = filedialog.askopenfilename(multiple=True)\n",
    "\n",
    "        b.description = \"Files Selected\"\n",
    "        b.icon = \"check-square-o\"\n",
    "        b.style.button_color = \"lightgreen\"\n",
    "my_button = SelectFilesButton()\n",
    "my_button # This will display the button in the context of Jupyter Notebook\n",
    "\n"
   ]
  },
  {
   "cell_type": "code",
   "execution_count": 13,
   "metadata": {
    "scrolled": false
   },
   "outputs": [
    {
     "name": "stderr",
     "output_type": "stream",
     "text": [
      "<?xml version=\"1.0\" encoding=\"UTF-8\" standalone=\"yes\"?>\n",
      "<jobstatus>\n",
      "    <selfUri>\n",
      "        <url>https://nsgr.sdsc.edu:8443/cipresrest/v1/job/aacwb/NGBW-JOB-NEURON73_TG-E8F1971F8083493585E7A97E10D2353F</url>\n",
      "        <rel>jobstatus</rel>\n",
      "        <title>NGBW-JOB-NEURON73_TG-E8F1971F8083493585E7A97E10D2353F</title>\n",
      "    </selfUri>\n",
      "    <jobHandle>NGBW-JOB-NEURON73_TG-E8F1971F8083493585E7A97E10D2353F</jobHandle>\n",
      "    <jobStage>QUEUE</jobStage>\n",
      "    <terminalStage>false</terminalStage>\n",
      "    <failed>false</failed>\n",
      "    <metadata>\n",
      "        <entry>\n",
      "            <key>statusEmail</key>\n",
      "            <value>true</value>\n",
      "        </entry>\n",
      "    </metadata>\n",
      "    <dateSubmitted>2018-09-18T17:11:35-07:00</dateSubmitted>\n",
      "    <resultsUri>\n",
      "        <url>https://nsgr.sdsc.edu:8443/cipresrest/v1/job/aacwb/NGBW-JOB-NEURON73_TG-E8F1971F8083493585E7A97E10D2353F/output</url>\n",
      "        <rel>results</rel>\n",
      "        <title>Job Results</title>\n",
      "    </resultsUri>\n",
      "    <workingDirUri>\n",
      "        <url>https://nsgr.sdsc.edu:8443/cipresrest/v1/job/aacwb/NGBW-JOB-NEURON73_TG-E8F1971F8083493585E7A97E10D2353F/workingdir</url>\n",
      "        <rel>workingdir</rel>\n",
      "        <title>Job Working Directory</title>\n",
      "    </workingDirUri>\n",
      "    <messages>\n",
      "        <message>\n",
      "            <timestamp>2018-09-18T17:11:36-07:00</timestamp>\n",
      "            <stage>QUEUE</stage>\n",
      "            <text>Added to NSG run queue.</text>\n",
      "        </message>\n",
      "    </messages>\n",
      "    <minPollIntervalSeconds>60</minPollIntervalSeconds>\n",
      "</jobstatus>\n",
      "\n",
      "https://nsgr.sdsc.edu:8443/cipresrest/v1/job/aacwb\n",
      "https://nsgr.sdsc.edu:8443/cipresrest/v1/job/aacwb/NGBW-JOB-NEURON73_TG-E8F1971F8083493585E7A97E10D2353F/output\n",
      "https://nsgr.sdsc.edu:8443/cipresrest/v1/job/aacwb/NGBW-JOB-NEURON73_TG-E8F1971F8083493585E7A97E10D2353F\n",
      "Waiting for job to complete\n",
      "..........................\n",
      "Job completion detected, getting download URIs...Download complete.  Run the next cell.\n"
     ]
    }
   ],
   "source": [
    "\n",
    "\n",
    "\n",
    "%%capture --no-stderr submitoutput\n",
    "\n",
    "import os\n",
    "import requests\n",
    "import xml.etree.ElementTree\n",
    "import time\n",
    "import sys\n",
    "\n",
    "a = my_button.files\n",
    "folder_selected = a[0]\n",
    "\n",
    "\n",
    "os.popen('pwd').read()\n",
    "os.popen('ls -ltr').read()\n",
    "headers = {'cipres-appkey' : KEY}\n",
    "payload = {'tool' : TOOL, 'metadata.statusEmail' : 'true', 'vparam.number_cores_' : 24, 'vparam.number_nodes_' : 2, 'vparam.runtime_' : 0.5, 'vparam.filename_': 'Batch.hoc', 'vparam.cmdlineopts_': '-c TSTOP=1'}\n",
    "files = {'input.infile_' : open(folder_selected,'rb')}\n",
    "\n",
    "r = requests.post('{}/job/{}'.format(URL, CRA_USER), auth=(CRA_USER, PASSWORD), data=payload, headers=headers, files=files)\n",
    "#print(r.text)\n",
    "\n",
    "root = xml.etree.ElementTree.fromstring(r.text)\n",
    "\n",
    "sys.stderr.write(\"%s\\n\" % r.text)\n",
    "sys.stderr.write(\"%s\\n\" % r.url)\n",
    "\n",
    "for child in root:\n",
    "    if child.tag == 'resultsUri':\n",
    "        for urlchild in child:\n",
    "            if urlchild.tag == 'url':\n",
    "                outputuri = urlchild.text\n",
    "    if child.tag == 'selfUri':\n",
    "        for urlchild in child:\n",
    "            if urlchild.tag == 'url':\n",
    "                selfuri = urlchild.text\n",
    "#print(outputuri,file=sys.stderr)\n",
    "sys.stderr.write(\"%s\\n\" % outputuri)\n",
    "#print(selfuri,file=sys.stderr)\n",
    "sys.stderr.write(\"%s\\n\" % selfuri)\n",
    "\n",
    "headers = {'cipres-appkey' : KEY}\n",
    "\n",
    "#print('Waiting for job to complete',file=sys.stderr)\n",
    "sys.stderr.write('Waiting for job to complete\\n')\n",
    "jobdone = 0\n",
    "while jobdone == 0:\n",
    "    r = requests.get(selfuri, auth=(CRA_USER, PASSWORD), headers=headers)\n",
    "    #print(r.text)\n",
    "    root = xml.etree.ElementTree.fromstring(r.text)\n",
    "    for child in root:\n",
    "        if child.tag == 'terminalStage':\n",
    "            jobstatus = child.text\n",
    "            if jobstatus == 'false':\n",
    "                time.sleep(5)\n",
    "                #print('.',file=sys.stderr,end='')\n",
    "                sys.stderr.write('.')\n",
    "            else:\n",
    "                jobdone = 1\n",
    "                #print('',file=sys.stderr,end='\\n')\n",
    "                sys.stderr.write('\\n')\n",
    "                break\n",
    "\n",
    "#print('Job completion detected, getting download URIs...',file=sys.stderr)\n",
    "sys.stderr.write('Job completion detected, getting download URIs...')\n",
    "r = requests.get(outputuri,\n",
    "                 headers= headers, auth=(CRA_USER, PASSWORD))\n",
    "#print(r.text)\n",
    "globaldownloadurilist = []\n",
    "root = xml.etree.ElementTree.fromstring(r.text)\n",
    "for child in root:\n",
    "    if child.tag == 'jobfiles':\n",
    "        for jobchild in child:\n",
    "            if jobchild.tag == 'jobfile':\n",
    "                for downloadchild in jobchild:\n",
    "                    if downloadchild.tag == 'downloadUri':\n",
    "                        for attchild in downloadchild:\n",
    "                            if attchild.tag == 'url':\n",
    "                                #print(attchild.text)\n",
    "                                sys.stdout.write(attchild.text)\n",
    "                                globaldownloadurilist.append(attchild.text)\n",
    "                \n",
    "#print('Download complete.  Run the next cell.',file=sys.stderr)\n",
    "sys.stderr.write('Download complete.  Run the next cell.\\n')"
   ]
  },
  {
   "cell_type": "code",
   "execution_count": 14,
   "metadata": {},
   "outputs": [
    {
     "name": "stdout",
     "output_type": "stream",
     "text": [
      "display https://nsgr.sdsc.edu:8443/cipresrest/v1/job/aacwb/NGBW-JOB-NEURON73_TG-E8F1971F8083493585E7A97E10D2353F/output/27314 [Y/y]?n\n",
      "display https://nsgr.sdsc.edu:8443/cipresrest/v1/job/aacwb/NGBW-JOB-NEURON73_TG-E8F1971F8083493585E7A97E10D2353F/output/27315 [Y/y]?n\n",
      "display https://nsgr.sdsc.edu:8443/cipresrest/v1/job/aacwb/NGBW-JOB-NEURON73_TG-E8F1971F8083493585E7A97E10D2353F/output/27316 [Y/y]?n\n"
     ]
    }
   ],
   "source": [
    "#submitoutput.show()\n",
    "#print(submitoutput.stdout)\n",
    "#print(globaldownloadurilist)\n",
    "globaloutputdict = {}\n",
    "for downloaduri in globaldownloadurilist:\n",
    "    r = requests.get(downloaduri, auth=(CRA_USER, PASSWORD), headers=headers)\n",
    "    #print(r.text)\n",
    "    globaloutputdict[downloaduri] = r.text\n",
    "for name in globaloutputdict.keys():\n",
    "    #continue_var = raw_input(\"display %s [Y/y]? \" % name)\n",
    "    if sys.version_info[0] < 3:\n",
    "        continue_var = raw_input(\"display %s [Y/y]?\" % name)\n",
    "    else:\n",
    "        continue_var = input(\"display %s [Y/y]?\" % name)\n",
    "    if continue_var in ['Y','y']:\n",
    "         #print(globaloutputdict[name])\n",
    "         sys.stdout.write(\"%s\\n\" % globaloutputdict[name])   "
   ]
  },
  {
   "cell_type": "code",
   "execution_count": 15,
   "metadata": {},
   "outputs": [
    {
     "name": "stderr",
     "output_type": "stream",
     "text": [
      "{'Server': 'Apache-Coyote/1.1', 'Cache-Control': 'private', 'Expires': 'Wed, 31 Dec 1969 16:00:00 PST', 'Content-Disposition': 'attachment; filename=STDOUT', 'Content-Type': 'text/plain', 'Transfer-Encoding': 'chunked', 'Date': 'Wed, 19 Sep 2018 00:14:35 GMT'}\n",
      "STDOUT\n",
      "{'Server': 'Apache-Coyote/1.1', 'Cache-Control': 'private', 'Expires': 'Wed, 31 Dec 1969 16:00:00 PST', 'Content-Disposition': 'attachment; filename=STDERR', 'Content-Type': 'text/plain', 'Transfer-Encoding': 'chunked', 'Date': 'Wed, 19 Sep 2018 00:14:35 GMT'}\n",
      "STDERR\n",
      "{'Server': 'Apache-Coyote/1.1', 'Cache-Control': 'private', 'Expires': 'Wed, 31 Dec 1969 16:00:00 PST', 'Content-Disposition': 'attachment; filename=output.tar.gz', 'Content-Type': 'text/plain', 'Transfer-Encoding': 'chunked', 'Date': 'Wed, 19 Sep 2018 00:14:35 GMT'}\n",
      "output.tar.gz\n"
     ]
    }
   ],
   "source": [
    "#http://stackoverflow.com/questions/31804799/how-to-get-pdf-filename-with-python-requests\n",
    "#downloaduri = 'https://nsgr.sdsc.edu:8443/cipresrest/v1/job/kenneth/NGBW-JOB-NEURON73_TG-650AAA3A8044475580739C88BDF7771D/output/14'\n",
    "for downloaduri in globaldownloadurilist:\n",
    "    r = requests.get(downloaduri, auth=(CRA_USER, PASSWORD), headers=headers)\n",
    "    sys.stderr.write(\"%s\\n\" % r.headers)\n",
    "    import re\n",
    "    d = r.headers['content-disposition']\n",
    "    fname_list = re.findall(\"filename=(.+)\", d)\n",
    "    for fname in fname_list:\n",
    "        sys.stderr.write(\"%s\\n\" % fname)"
   ]
  },
  {
   "cell_type": "code",
   "execution_count": 16,
   "metadata": {},
   "outputs": [],
   "source": [
    "# download all output files\n",
    "\n",
    "import re\n",
    "#downloaduri = 'https://cipresrest.sdsc.edu/cipresrest/v1/job/kenneth/NGBW-JOB-RAXMLHPC8_REST_XSEDE-EF0E26B61D2E4C0C8D02499D8068D873/output/11496'\n",
    "for downloaduri in globaldownloadurilist:\n",
    "    r = requests.get(downloaduri, auth=(CRA_USER, PASSWORD), headers=headers)\n",
    "    #sys.stderr.write(\"%s\\n\" % r.json())\n",
    "    #r.content\n",
    "    d = r.headers['content-disposition']\n",
    "    filename_list = re.findall('filename=(.+)', d)\n",
    "    for filename in filename_list:\n",
    "        #http://docs.python-requests.org/en/master/user/quickstart/#raw-response-content\n",
    "        with open(filename, 'wb') as fd:\n",
    "            for chunk in r.iter_content():\n",
    "                fd.write(chunk)"
   ]
  },
  {
   "cell_type": "code",
   "execution_count": 17,
   "metadata": {},
   "outputs": [
    {
     "name": "stdout",
     "output_type": "stream",
     "text": [
      "job url: https://nsgr.sdsc.edu:8443/cipresrest/v1/job/aacwb/NGBW-JOB-NEURON73_TG-30BF952B5E5C483E92380A7A34FC7013 status terminalStage: true\n",
      "job url: https://nsgr.sdsc.edu:8443/cipresrest/v1/job/aacwb/NGBW-JOB-NEURON73_TG-8995E9765E3D43378A2E5BD3A8BD54B1 status terminalStage: true\n",
      "job url: https://nsgr.sdsc.edu:8443/cipresrest/v1/job/aacwb/NGBW-JOB-NEURON73_TG-E8F1971F8083493585E7A97E10D2353F status terminalStage: true\n"
     ]
    }
   ],
   "source": [
    "# get a list of jobs for user and app key, and terminalStage status\n",
    "\n",
    "r = requests.get(\"%s/job/%s\" % (URL,CRA_USER), auth=(CRA_USER, PASSWORD), headers=headers)\n",
    "#print(r.text)\n",
    "\n",
    "root = xml.etree.ElementTree.fromstring(r.text)\n",
    "for child in root:\n",
    "    if child.tag == 'jobs':\n",
    "        for jobchild in child:\n",
    "            if jobchild.tag == 'jobstatus':\n",
    "                for statuschild in jobchild:\n",
    "                    if statuschild.tag == 'selfUri':\n",
    "                        for selfchild in statuschild:\n",
    "                            if selfchild.tag == 'url':\n",
    "                                #print(child)\n",
    "                                joburi = selfchild.text\n",
    "                                jobr = requests.get(joburi, auth=(CRA_USER, PASSWORD), headers=headers)\n",
    "                                jobroot = xml.etree.ElementTree.fromstring(jobr.text)\n",
    "                                for jobrchild in jobroot:\n",
    "                                    if jobrchild.tag == 'terminalStage':\n",
    "                                        jobstatus = jobrchild.text\n",
    "                                        sys.stdout.write(\"job url: %s status terminalStage: %s\\n\" % (joburi,jobstatus))"
   ]
  },
  {
   "cell_type": "code",
   "execution_count": 18,
   "metadata": {},
   "outputs": [
    {
     "name": "stdout",
     "output_type": "stream",
     "text": [
      "<?xml version=\"1.0\" encoding=\"UTF-8\" standalone=\"yes\"?>\n",
      "<error>\n",
      "    <displayMessage>Authorization Error</displayMessage>\n",
      "    <message>org.ngbw.cipresrest.auth.AuthorizationException: Access forbidden for aacwb.\n",
      "</message>\n",
      "    <code>1</code>\n",
      "</error>\n",
      "\n"
     ]
    }
   ],
   "source": [
    "# get information for a single job, print out raw XML, need to set joburi according to above list\n",
    "\n",
    "joburi = 'https://nsgr.sdsc.edu:8443/cipresrest/v1/job/kenneth/NGBW-JOB-NEURON73_TG-220F7B3C7EE84BC3ADD87346E933ED5E'\n",
    "r = requests.get(joburi,\n",
    "                 headers= headers, auth=(CRA_USER, PASSWORD))\n",
    "print(r.text)\n"
   ]
  },
  {
   "cell_type": "code",
   "execution_count": 8,
   "metadata": {},
   "outputs": [
    {
     "name": "stderr",
     "output_type": "stream",
     "text": [
      "\n"
     ]
    }
   ],
   "source": [
    "# delete an old job, need to set joburi\n",
    "joburi = 'https://nsgr.sdsc.edu:8443/cipresrest/v1/job/kenneth/NGBW-JOB-NEURON73_TG-7AF604008F314B43A331231E5A94C361'\n",
    "r = requests.delete(joburi, auth=(CRA_USER, PASSWORD), headers=headers)\n",
    "sys.stderr.write(\"%s\\n\" % r.text)"
   ]
  },
  {
   "cell_type": "code",
   "execution_count": null,
   "metadata": {
    "collapsed": true
   },
   "outputs": [],
   "source": []
  }
 ],
 "metadata": {
  "kernelspec": {
   "display_name": "Python 3",
   "language": "python",
   "name": "python3"
  },
  "language_info": {
   "codemirror_mode": {
    "name": "ipython",
    "version": 3
   },
   "file_extension": ".py",
   "mimetype": "text/x-python",
   "name": "python",
   "nbconvert_exporter": "python",
   "pygments_lexer": "ipython3",
   "version": "3.6.4"
  }
 },
 "nbformat": 4,
 "nbformat_minor": 1
}
